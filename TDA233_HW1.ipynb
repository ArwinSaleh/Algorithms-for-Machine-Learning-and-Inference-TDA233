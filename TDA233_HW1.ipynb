{
 "cells": [
  {
   "cell_type": "markdown",
   "metadata": {
    "colab_type": "text",
    "id": "1UKOQcXNtJ8e"
   },
   "source": [
    "$\\qquad$ $\\qquad$$\\qquad$  **TDA 231 Machine Learning: Homework 1** <br />\n",
    "$\\qquad$ $\\qquad$$\\qquad$ **Goal: Start working with Jupyter notebooks, introduction to probability and regression models**<br />\n",
    "$\\qquad$ $\\qquad$$\\qquad$                   **Grader: Arman Rahbar** <br />\n",
    "$\\qquad$ $\\qquad$$\\qquad$                   **Submitted by: Arwin Saleh, Personal no., email** <br />\n",
    "$\\qquad$ $\\qquad$$\\qquad$                   **Submitted by: Sam Nehmé, Personal no., email** <br />"
   ]
  },
  {
   "cell_type": "markdown",
   "metadata": {
    "colab_type": "text",
    "id": "PQ8gZxqWtJ8h"
   },
   "source": [
    "General guidelines:\n",
    "* All solutions to theoretical and pratical problems must be submitted in this ipynb notebook, and equations wherever required, should be formatted using LaTeX math-mode.\n",
    "* All discussion regarding practical problems, along with solutions and plots should be specified in this notebook. \n",
    "All plots/results should be visible such that the notebook do not have to be run. But the code in the notebook should reproduce the plots/results if we choose to do so.\n",
    "* Your name, personal number and email address should be specified above.\n",
    "* All tables and other additional information should be included in this notebook.\n",
    "* ** Before submitting, make sure that your code can run on another computer. That all plots can show on another computer including all your writing. It is good to check if your code can run here: https://colab.research.google.com **\n",
    "* ** Upload both the .ipynb and the generatable .html file (that can be exported through File > Download As > HTML) **"
   ]
  },
  {
   "cell_type": "markdown",
   "metadata": {
    "colab_type": "text",
    "id": "vrnQ98KgtJ8i"
   },
   "source": [
    "**Jupyter/IPython Notebook** is a collaborative Python web-based environment. This will be used in all our Homework Assignments. It is installed in the halls ES61-ES62, E-studio and MT9. You can also use google-colab: https://colab.research.google.com\n",
    "to run these notebooks without having to download, install, or do anything on your own computer other than a browser.\n",
    "Some useful resources:\n",
    "1. https://jupyter-notebook-beginner-guide.readthedocs.io/en/latest/ (Quick-start guide)\n",
    "2. https://www.kdnuggets.com/2016/04/top-10-ipython-nb-tutorials.html\n",
    "3. http://data-blog.udacity.com/posts/2016/10/latex-primer/ (latex-primer)\n",
    "4. http://jupyter-notebook.readthedocs.io/en/stable/examples/Notebook/Working%20With%20Markdown%20Cells.html (markdown)"
   ]
  },
  {
   "cell_type": "markdown",
   "metadata": {
    "colab_type": "text",
    "id": "fl1Lu21rtJ8k"
   },
   "source": [
    "# Theoretical problems\n",
    "\n",
    "## [Bayes Rule, 3 points]\n",
    "\n",
    "After your yearly checkup, the doctor has bad news and good news. The\n",
    "bad news is that you tested positive for a very serious cancer and\n",
    "that the test is 99.2% accurate i.e. the probability of testing\n",
    "positive given you have the disease is 0.992. The probability of\n",
    "testing negative if you don’t have the disease is the same (also 0.992). The good news is that it is a rare condition affecting only 1 in 1,000 people. What is the probability you actually have the disease? \n",
    "\n",
    "After doing all your calculations you realize that there was a misprint on the test, and the accuracy was actually only 92% (for both testing postive given that you have the disease and for testing negative given that you do not have the disease). How will this change your probability of having the disease?\n",
    "\n",
    "(Show all calculations and the final result.)"
   ]
  },
  {
   "cell_type": "markdown",
   "metadata": {},
   "source": [
    "## [Setting hyperparameters, 2 points]\n",
    "\n",
    "Suppose $\\theta$ is a random variable generated from a beta distribution as: $\\theta \\sim \\mbox{Beta}(a^2,b)$. Also assume that  the expectation of $\\theta$ is $m$: $E[\\theta] = m$\n",
    "and the variance of $\\theta$ is v: $\\mbox{var}(\\theta) = v$. Express $a$ and $b$ in term of (only) $m$ and $v$.\n",
    "For more information about the $\\mbox{Beta}$ distribution see https://en.wikipedia.org/wiki/Beta_distribution."
   ]
  },
  {
   "cell_type": "markdown",
   "metadata": {},
   "source": [
    "\n",
    "## [Correlation and Independence, 2 points]\n",
    "\n",
    "Let $X$ be a continuous random variable, uniformly distributed in $[-2, +2]$ and let $Y := X^4$. Clearly $Y$ is not independent of $X$ -- in fact it is uniquely determined by $X$. However, show that the covariance of $X$ and $Y$ is 0: $\\mbox{cov}(X, Y ) = 0$.\n",
    "Show and justify every step of the proof. Statements like \"it is obvious that, it is trivial ...\" will not be accepted."
   ]
  },
  {
   "cell_type": "markdown",
   "metadata": {},
   "source": [
    "## [Spherical Gaussian estimation, 4 points]\n",
    "\n",
    "Consider a dataset $X$ consisting of i.i.d. observations\n",
    "generated from a spherical Gaussian distribution $N(\\mu, \\sigma^2I)$, where $\\mu \\in \\mathbb{R}^p$, $I$ \n",
    "is the $p \\times p $ identity matrix, and $\\sigma^2$ is a scalar.\n",
    "\n",
    "Write the mathematical expression for the Maximum Likelihood Estimator (MLE) for $\\mu$ and $\\sigma$ in above setup.\n",
    "\n",
    "For more information about the spherical Gaussian distribution, see https://en.wikipedia.org/wiki/Multivariate_normal_distribution.\n",
    "For more information about the identity matrix see: https://en.wikipedia.org/wiki/Identity_matrix"
   ]
  },
  {
   "cell_type": "markdown",
   "metadata": {
    "colab_type": "text",
    "id": "lO0M1fgXMtMD"
   },
   "source": [
    "Write Answers  here. Double-click (or enter) to edit. Latex mathematical expressions can just be written by starting with \"$\" and ending with the same character.\n",
    "\n",
    "## Bayes Rules\n",
    "\n",
    "A: Testing positive\n",
    "\n",
    "B: Having cancer\n",
    "\n",
    "Given:\n",
    "\n",
    "$$ P(A|B) = 0.992 $$\n",
    "\n",
    "$$ P(A|\\neg B) = 0.008 $$\n",
    "\n",
    "$$ P(B) = 0.001 $$\n",
    "\n",
    "$$ P(\\neg B) = 0.999 $$\n",
    "\n",
    "$$ P(\\neg A|\\neg B) = 0.992 $$\n",
    "\n",
    "$ P(A)$ = Probability of testing positive = $P(B) * P(A|B) + P(\\neg B) * P(A| \\neg B) = 0.001 * 0.992 + 0.999 * 0.008 = 0.008984$\n",
    "\n",
    "$$ => P(B|A) = P(A|B) * P(B)/P(A) = 0.992 * 0.001/0.008984 ~= 0.1104 $$\n",
    "\n",
    "$= \\textbf{11.04 %}$ (BEFORE FINDING MISPRINT)\n",
    "\n",
    "$ P(A)$ = Probability of testing positive = $P(B) * P(A|B) + P(\\neg B) * P(A| \\neg B) = 0.001 * 0.92 + 0.999 * 0.08 = 0.08084 $\n",
    "\n",
    "$$ => P(B|A) = P(A|B) * P(B)/P(A) = 0.92 * 0.001/0.08084 ~= 0.01138 $$\n",
    "\n",
    "$= \\textbf{1.138%}$ (AFTER FINDING MISPRINT)\n",
    "\n",
    "$$ 11.04 - 1.138 = 9.902 $$\n",
    "\n",
    "Therefore: The probability of actually having the disease decreases by approximately 10 percentage points when adjusting the probability of testing positive given you have cancer.\n",
    "\n",
    "## Setting hyperparameters\n",
    "\n",
    "$$ E[\\mathbf{\\theta}] = m = \\frac{a^2}{a^2 + b} $$\n",
    "\n",
    "$$ => b = \\frac{a^2}{m} - a^2 \\text{ and } a = \\sqrt{\\frac{b}{\\frac{1}{m} - 1}} $$ \n",
    "\n",
    "$$ \\text{Var}[\\mathbf{X}] = \\frac{a^2 b}{(a^2 + b)^2 (a^2 + b + 1)} = v $$\n",
    "\n",
    "The above system of equations gives us the following expressions for a and b:\n",
    "\n",
    "$$ a = \\pm \\sqrt{\\frac{-m (m^2 - m + v)}{v}} $$\n",
    "\n",
    "$$ b = \\frac{(m - 1)(m^2 - m + v)}{v} $$\n",
    "\n",
    "## Correlation\n",
    "\n",
    "X uniformly distributed in [-2 2], Y = X^4 distributed in [0 16]. We have $$\\text{Cov}(X,Y) = E[(X-\\mu)(Y-v)] \\text{   where } \\mu = E(X) = 0 \\text{ and } v = E[X^4] = C = \\text{ some constant} > 0 \\text{.}$$\n",
    "\n",
    "$$ E[(X-0)(X^4-C)] = E[X^5 -X\\cdot C]$$\n",
    "\n",
    "Since $X^5$ is the power of an odd number $E[X^5] = 0$ and $E[X\\cdot C] = 0$ since no matter which constant is multiplied to a random variable with mean 0 the mean will remain the same.\n",
    "\n",
    "Therefore: $\\text{Cov}(X,Y) = E[X^5 - X\\cdot C] = 0$\n",
    " \n",
    "## Spherical Gaussian\n",
    "\n",
    "$$ L = p(\\mathbf{x}|\\mathbf{\\mu},\\mathbf{\\sigma^2}) = N(\\mathbf{\\mu}, \\mathbf{\\sigma^2}) = \\frac{1}{(2\\pi)^{p/2}|\\sigma^2 I|^{1/2}} exp \\left[ -\\frac{1}{2} (\\mathbf{x} - \\mathbf{\\mu})^T (\\sigma^2 I)^{-1} (\\mathbf{x} - \\mathbf{\\mu}) \\right] $$\n",
    "\n",
    "$$ log(L) = log(N(\\mathbf{\\mu}, \\mathbf{\\sigma^2})) = log\\left(\\frac{1}{(2\\pi)^{p/2}|\\sigma^2 I|^{1/2}}\\right) - \\left(\\frac{1}{2} (\\mathbf{x} - \\mathbf{\\mu})^T (\\sigma^2 I)^{-1} (\\mathbf{x} - \\mathbf{\\mu}) \\right) $$\n",
    "$$ \\frac{\\partial}{\\partial \\mu} log(L) = \\frac{\\partial}{\\partial \\mu} \\left[ 0 - \\frac{1}{2} (\\mathbf{x} - \\mathbf{\\mu})^T (\\sigma^2 I)^{-1} (\\mathbf{x} - \\mathbf{\\mu}) \\right] = \\mathbf{0} $$"
   ]
  },
  {
   "cell_type": "markdown",
   "metadata": {},
   "source": [
    "# Practical problems"
   ]
  },
  {
   "cell_type": "code",
   "execution_count": null,
   "metadata": {},
   "outputs": [],
   "source": []
  },
  {
   "cell_type": "markdown",
   "metadata": {},
   "source": [
    "# [Linear Regression with regularization 9pt]\n",
    "\n",
    "You are newly recruited as a Data Scientist at a leading consultancy company in Gothenburg. Your first task at the job is to help the Swedish Public Health Agency (folkhalsomyndigheten) for predicting the diabetes progression of patients. Assume that you are given a dataset D of $n$ patients with $D = \\{ (\\mathbf{x}_i, y_i)\\}_{i=1}^n$ where $\\mathbf{x}_i \\in \\mathbb{R}^p$ represents numerical features of each patients and $y_i \\in \\mathbb{R}$ represent the numerical diabetes progression.  One can also view the dataset D as a pair of matrices $(\\mathbf{X}, \\mathbf{y})$ with $\\mathbf{X} \\in \\mathbb{R}^{n \\times p}$ and $\\mathbf{y} \\in \\mathbb{R}^{n \\times 1}$.\n",
    "\n",
    "Fresh with the lectures in the machine learning course at Chalmers, you would like to use a linear model to quickly perform the task. In order words, you would like to find a vector $\\mathbf{w} \\in \\mathbb{R}^{p \\times 1}$  such that $\\mathbf{y} = \\mathbf{X} \\mathbf{w}$.  However,  you have just read one of the most popular machine learning book and it argues that standard linear regression (for finding $\\mathbf{w}$) can lead to various problems such as non-uniqueness of the solution,  overfitting, etc. As a result, you decided to add a penalty term called regularization to control the optimisation problem. More specifically, you want to solve for: $\\min_{\\mathbf{w}}  \\mathcal{L}(\\mathbf{w})$ where  $\\mathcal{L}(\\mathbf{w}) = \\left(\\sum_{i=1}^n (y_i - \\mathbf{w}^T\\mathbf{x}_i)^2 \\right) + \\left(\\alpha \\sum_{j=1}^p w_j^2 \\right) $ with $\\alpha \\in \\mathbb{R}$ a small coefficient that you will decide later on.\n",
    "\n",
    "Please note the slight changes in the notation. Recall that in the lectures we had a dataset $\\{ (\\mathbf{x}_n, t_n)\\}_{n=1}^N$ where $\\mathbf{x}_n \\in \\mathbb{R}^D$ and $t_n \\in \\mathbb{R}$. We also appended $1$ to the begining of $\\mathbf{x}_n$ so both $\\mathbf{x}_n$ and $\\mathbf{w}$ were in $\\mathbb{R}^{D+1}$. Thus, here $p$ is the same thing as $D+1$. Compare $w_1, w_2, \\dots, w_p$ with $w_0, w_1, \\dots, w_D$.\n",
    "\n",
    "1-  **1pt** Write down $\\mathcal{L}(\\mathbf{w})$ in matrix/vector forms using only $\\mathbf{X}$, $\\mathbf{y}$ and $\\mathbf{w}$ and the L2 norm. In other words, you are not allowed to use any components $y_i, \\mathbf{w}_j$ or $\\mathbf{x}_i$ ( For any vector $\\mathbf{z}$ use the following notation $|\\mathbf{z}|_2$ to mean the L2 norm of  $\\mathbf{z}$ See http://mathworld.wolfram.com/L2-Norm.html for more information about the L2 norm.)\n",
    "\n",
    "$\\textbf{Answer:}$\n",
    "    $$L(\\mathbf{w}) = (\\textbf{y} - \\mathbf{w}^T\\mathbf{X}^T)^T(\\textbf{y} - \\mathbf{w}^T\\mathbf{X}^T) + \\alpha ||\\textbf{w}||_2^2 = (\\textbf{y} - \\mathbf{X}\\mathbf{w})^T(\\textbf{y} - \\mathbf{X}\\mathbf{w}) + \\alpha ||\\textbf{w}||_2^2$$\n",
    "\n",
    "2- **1pt** Derive and write down in matrix/vector forms the gradient of $\\mathcal{L}(\\mathbf{w})$ with respect to $\\mathbf{w}$. Show all the derivations. (Hint: You can start by  computing the gradient of the full expression and then convert it to matrix/vector forms. You can also directly get the gradients from your answer in 1-)\n",
    "\n",
    "$\\textbf{Answer:}$\n",
    "$$\\frac{\\partial {L}}{\\partial \\mathbf{w}} = \\frac{\\partial}{\\partial \\mathbf{w}} (\\mathbf{y} - \\mathbf{Xw})^T (\\mathbf{y} - \\mathbf{Xw}) + \\frac{\\partial}{\\partial \\mathbf{w}} \\alpha ||\\mathbf{w}||_2^2 = 2\\mathbf{X}^T(\\mathbf{Xw}-\\mathbf{y}) + \\frac{\\partial}{\\partial \\mathbf{w}} \\alpha ||\\mathbf{w}||_2^2 $$\n",
    "\n",
    "$$ \\frac{\\partial}{\\partial \\textbf{w}} \\text{L2-norm} = \\frac{\\partial}{\\partial w_k} \\alpha \\sum\\limits_{j=1}^n w_j^2 = \\alpha \\sum\\limits_{j=1}^n \\frac{\\partial}{\\partial w_k} w_j^2 = \\text{[} 0 \\text{ if } k \\neq j\\text{, } 2w_k \\text{ else]} = 2 \\alpha I \\textbf{w} $$\n",
    "\n",
    "Therefore: $$ \\frac{\\partial {L}}{\\partial \\textbf{w}} = 2\\textbf{X}^T(\\textbf{Xw}-\\textbf{y}) + \n",
    "2 \\alpha I \\mathbf{w}$$\n",
    "\n",
    "3- **2pt** Derive and write down in matrix/vector forms the solution $\\mathbf{w}^*$ to the optimization problem $\\min_{\\mathbf{w}}  \\mathcal{L}(\\mathbf{w})$. Show all your derivations. (Hint: $\\mathcal{L}(\\mathbf{w})$ is convex in $\\mathbf{w}$)\n",
    "\n",
    "$\\textbf{Answer:}$\n",
    "\n",
    "$$ 2\\mathbf{X}^T (\\mathbf{X w} - \\mathbf{y}) + 2 \\alpha I \\mathbf{w} = \\mathbf{0} $$\n",
    "\n",
    "$$ 2\\mathbf{X}^T \\mathbf{X w} - 2\\mathbf{X}^T \\mathbf{y} + 2 \\alpha I \\mathbf{w} = \\mathbf{0} $$\n",
    "\n",
    "$$ 2\\mathbf{w} (\\mathbf{X}^T \\mathbf{X} + \\alpha I) = 2\\mathbf{X}^T \\mathbf{y} $$\n",
    "\n",
    "$$ \\mathbf{w} (\\mathbf{X}^T \\mathbf{X} + \\alpha I) (\\mathbf{X}^T \\mathbf{X} + \\alpha I)^{-1} = \\mathbf{X}^T \\mathbf{y} (\\mathbf{X}^T \\mathbf{X} + \\alpha I)^{-1} $$\n",
    "\n",
    "$$ \\mathbf{w}^* = \\mathbf{X}^T \\mathbf{y} (\\mathbf{X}^T \\mathbf{X} + \\alpha I)^{-1} $$\n",
    "\n",
    "4-  **2pt** Under which condition on the $\\alpha$ is the solution $\\mathbf{w}^*$ unique? Prove rigorously your statement. Make no assumptions on $\\mathbf{X}$. (Hint: If your solution $\\mathbf{w}^*$ requires to invert a matrix, then one necessary condition for uniquess is for the matrix to be invertible. And any positive definitive matrix https://en.wikipedia.org/wiki/Definiteness_of_a_matrix is invertible. You might also want to look at the properties of transposition https://en.wikipedia.org/wiki/Transpose)\n",
    "\n",
    "$\\textbf{Answer:}$\n",
    "\n",
    "The expression $ (\\mathbf{X}^T \\mathbf{X} + \\alpha I)^{-1}$ is invertible for all $ \\alpha I \\neq - \\mathbf{X}^T \\mathbf{X} $.\n",
    "\n",
    "5- **2pt** Implement in Python a well commented function **fit_linear_with_regularization** that takes as input $\\mathbf{X}$, $\\mathbf{y}$ and $\\alpha$ and return $\\mathbf{w}^*$ as computed in question 3. You are not allowed to use any loops (for-loop, while-loop ...) to do the implementation. Instead use and abuse as much as possible numpy vectorization techniques. A skeleton of the function is shown in the code cell below.\n",
    "\n",
    "6- **3pt** Implement in Python a well commented function **predict** that takes as input a dataset $\\mathbf{X_{\\text{test}}}$ in the same dimensions as $\\mathbf{X}$ and return the predictions.   Write down the mean squared error (https://en.wikipedia.org/wiki/Mean_squared_error) of your predictions. Then on the same plot with legends, show:\n",
    "\n",
    " a) A scatter plot of the first feature of $\\mathbf{X_{\\text{test}}}$ (x-axis) and the diabetes progression $\\mathbf{y_{\\text{test}}}$ \n",
    " \n",
    " b) A plot of your prediction for $\\mathbf{X_{\\text{test}}}$\n",
    " \n",
    " The skeleton code in the cell below already implements most of data loading and you should only have to fill in the *TODO* part. Again here no loops are allowed (for-loop, while loop in the implementation of the plots and the **predict** )\n"
   ]
  },
  {
   "cell_type": "code",
   "execution_count": 31,
   "metadata": {},
   "outputs": [
    {
     "name": "stdout",
     "output_type": "stream",
     "text": [
      "Mean Squared error is  2003.7909650060897\n"
     ]
    },
    {
     "data": {
      "image/png": "[encoded data removed]",
      "text/plain": [
       "<Figure size 432x288 with 1 Axes>"
      ]
     },
     "metadata": {
      "needs_background": "light"
     },
     "output_type": "display_data"
    }
   ],
   "source": [
    "# Make it possible to show plots in the notebooks.\n",
    "%matplotlib inline\n",
    "import numpy as np\n",
    "from sklearn import datasets\n",
    "from sklearn import metrics\n",
    "import matplotlib\n",
    "import matplotlib.pyplot as plt\n",
    "\n",
    "\n",
    "\n",
    "def fit_linear_with_regularization(X, y, alpha):\n",
    "    \n",
    "    X = np.insert(X, 0, 1, axis=1)\n",
    "    # Compute the analytical optimal weights in vectorized form\n",
    "    w = (X.T @ y) @ np.linalg.inv(X.T @ X + alpha * np.identity(X.shape[1]))\n",
    "    \n",
    "    return w\n",
    "\n",
    "def predict(X_test, w):\n",
    "    X_test = np.insert(X_test, 0, 1, axis=1)\n",
    "    # predict the output from the test data and weights\n",
    "    return X_test @ w\n",
    "\n",
    "def plot_prediction(X_test, y_test, y_pred):\n",
    "    \n",
    "    # Scatter plot the first feature of X_test (x-axis) and y_test (y-axis)\n",
    "    plt.scatter(X_test[:,0], y_test, label=\"Ground truth\")\n",
    "    \n",
    "    # Plot y_pred using the first feature of X_test as x-axis\n",
    "    plt.scatter(X_test[:,0], y_pred, label=\"Predictions\")\n",
    "    # Show labels\n",
    "    plt.legend()\n",
    "    \n",
    "    # Compute the mean squared error\n",
    "    mean_squared_error = metrics.mean_squared_error(y_test, y_pred)\n",
    "    return mean_squared_error\n",
    "\n",
    "\n",
    "# Load the diabetes dataset\n",
    "X, y = datasets.load_diabetes(return_X_y=True)\n",
    "\n",
    "\n",
    "# Split the dataset into training and test set\n",
    "num_test_elements = 20\n",
    "\n",
    "X_train = X[:-num_test_elements]\n",
    "X_test = X[-num_test_elements:]\n",
    "\n",
    "y_train = y[:-num_test_elements]\n",
    "y_test = y[-num_test_elements:]\n",
    "\n",
    "\n",
    "# Set alpha\n",
    "alpha = 0.01\n",
    "\n",
    "# Train using linear regression with regularization and find optimal model\n",
    "w = fit_linear_with_regularization(X_train, y_train, alpha)\n",
    "\n",
    "\n",
    "# Make predictions using the testing set X_test\n",
    "y_pred = predict(X_test, w)\n",
    "\n",
    "# Plots and mean squared error\n",
    "error = plot_prediction(X_test, y_test, y_pred)\n",
    "\n",
    "print('Mean Squared error is ', error)\n",
    "\n",
    "# Show the plot\n",
    "plt.show();\n",
    "\n",
    "\n"
   ]
  },
  {
   "cell_type": "markdown",
   "metadata": {},
   "source": [
    "# Bonus question\n",
    "\n",
    "Answering this question, will not give you any additional points. Not answering this question will not prevent you from getting full points (if all other questions are answered correctly). However, if you answer this question, we will pick exactly one question where you didn't receive full points in this assignment and give you **at most** 4 more points there. In particular,  between the questions for which you have reasonably attempted a solution, we will pick the one where the difference between the full point and the point you received is the maximum.\n",
    "\n",
    "## Bayesian Linear Regression 4pt\n",
    "\n",
    "Proud of finishing the task using a linear model with regularization, you show your results to a representative of the Swedish Public Health Agency. You barely finish explaining your solution when the face of the representative turns red and you could distinctly hear: \"Bayesian is the only way: How come didn't you use any probabilities?\". \n",
    "\n",
    "You quickly head back to your desk and now assume a Gaussian prior on the solution $\\mathbf{w}$, that is $p(\\mathbf{w}) = \\mathcal{N}(\\mathbf{0}, \\lambda^{-1} \\mathbf{I})$ where $\\lambda \\in \\mathbb{R}$ is a constant real number, $I$ is the $p \\times p$ identity matrix and $\\mathcal{N}(\\mathbf{0}, \\lambda^{-1} \\mathbf{I})$ is used to mean the multivariate gaussian distribution with mean $\\mathbf{0} \\in \\mathbb{R}^p$ , a vector of zeros of dimension $p$ and covariance matrix $\\lambda^{-1} \\mathbf{I}$ . Then, you use the following likelihood:\n",
    "\n",
    "$p(\\mathbf{y} | \\mathbf{X}, \\mathbf{w}) = \\prod_{i=1}^n \\mathcal{N}(\\mathbf{w}^T \\mathbf{x}_i, \\gamma^{-1})$ where here $\\gamma \\in \\mathbb{R}$ is a constant real number and $\\mathcal{N}(\\mathbf{w}^T \\mathbf{x}_i, \\gamma^{-1})$ is the gaussian distribution with mean  $\\mathbf{w}^T \\mathbf{x}_i$ and variance $\\gamma^{-1}$.\n",
    "\n",
    "\n",
    "7- **2pt** Derive and express in vector/matrix form as a function of $\\mathbf{X}, \\mathbf{y}, \\mathbf{w}$ the log posterior $\\ln p(\\mathbf{w} | \\mathbf{y}, \\mathbf{X})$. Show all the derivations. You can ignore normalizing constants.\n",
    " \n",
    "\n",
    "\n",
    "8-  **2pt** Show that maximizing the posterior in 7- is  similar to minimizing the function $\\mathcal{L}(\\mathbf{w})$ seen in the previous section. Show your derivations. (Note: You should show this without computing the maximum of the posterior. Instead, you should express the log posterior in term of $\\mathcal{L}(\\mathbf{w})$, ignoring constants if necessary. Then find the $\\alpha$ of $\\mathcal{L}(\\mathbf{w})$ in term of $\\lambda$ and $\\gamma$)."
   ]
  }
 ],
 "metadata": {
  "colab": {
   "name": "Hw1_2019.ipynb",
   "provenance": [
    {
     "file_id": "1Y5XjPfo2fv3nGBtIxbf0F_WFtssz1N_S",
     "timestamp": 1553254350644
    }
   ],
   "version": "0.3.2"
  },
  "kernelspec": {
   "display_name": "Python 3",
   "language": "python",
   "name": "python3"
  },
  "language_info": {
   "codemirror_mode": {
    "name": "ipython",
    "version": 3
   },
   "file_extension": ".py",
   "mimetype": "text/x-python",
   "name": "python",
   "nbconvert_exporter": "python",
   "pygments_lexer": "ipython3",
   "version": "3.8.6"
  }
 },
 "nbformat": 4,
 "nbformat_minor": 1
}
