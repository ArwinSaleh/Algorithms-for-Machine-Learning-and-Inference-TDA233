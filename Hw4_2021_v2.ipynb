{
 "cells": [
  {
   "cell_type": "markdown",
   "metadata": {
    "colab_type": "text",
    "id": "2CJDqQbKIfxp"
   },
   "source": [
    "$\\qquad$ $\\qquad$$\\qquad$  **TDA 233 Machine Learning: Home Assignment 4 in Clustering** <br />\n",
    "$\\qquad$ $\\qquad$$\\qquad$ **Goal: K-means, GMM, EM**<br />\n",
    "$\\qquad$ $\\qquad$$\\qquad$                   **Grader: Lovisa** <br />\n",
    "$\\qquad$ $\\qquad$$\\qquad$                     **Due Date: 2021-03-19** <br />\n",
    "$\\qquad$ $\\qquad$$\\qquad$                   **Submitted by: Name, Personal No., Email** <br />\n",
    "\n",
    "\n",
    "---\n",
    "\n",
    "\n",
    "GENERAL GUIDELINES:\n",
    "*   All solutions to theoretical and pratical problems must be submitted in this ipynb notebook, and equations wherever required, should be formatted using LaTeX math-mode.\n",
    "*   All discussion regarding practical problems, along with solutions and plots should be specified in this notebook. Include your derivations for the theoretical questions. All plots/results should be visible such that the notebook does not need to be run. However, the code in the notebook should reproduce the plots/results if we choose to run it.\n",
    "*   Your name, personal number and email address should be specified above.\n",
    "*   All tables and other additional information should be included in this notebook.\n",
    "*   **All the answers for theoretical questions must be filled in the cells created for you with \"Your answer here\" below each question. Feel free to add more cells if needed.**\n",
    "*   Before submitting, make sure that your code can run on another computer. That all plots can show on another computer including all your writing. It is good to check if your code can run here: https://colab.research.google.com.\n"
   ]
  },
  {
   "cell_type": "markdown",
   "metadata": {
    "colab_type": "text",
    "id": "i2SZprryJ3Yn"
   },
   "source": [
    "# K-Means Implementation [4 points]\n",
    "\n",
    "### Q 1.1. \n",
    "Implement the basic (linear) $k$-means algorithm as described in the lecture, using the euclidean distance. Use random points sampled uniformly without replacement from the data as initialization for the centroids. Terminate the iterative procedure when the cluster assignments do not change. [**2 pts**]\n",
    "\n",
    "### Q 1.2. \n",
    "In this exercise you will run your $k$-means algorithm implementation on the data in **hw4_data.csv**. Each row in the data is an observation, and each column is a feature. \n",
    "\n",
    "1. What value of $k$ do you think is suitable for this data?\n",
    "\n",
    "2. Run your k-means implementation on the data with your choice of suitable $k$. Run the algorithm 5 times on the data and plot the resulting cluster assignments for each run. Also note for each run how many iterations were required before convergence. \n",
    "\n",
    "3. Do you always get the same final cluster solutions and same number of required iterations? Why/why not? [**2 pts**]\n",
    "\n",
    "\n",
    "**Note:** The follwing code might be useful for this excercise.\n",
    "\n",
    "```python\n",
    "import pandas as pd\n",
    "data = pd.read_csv(\"hw4_data.csv\")\n",
    "data.head()\n",
    "```"
   ]
  },
  {
   "cell_type": "markdown",
   "metadata": {
    "colab_type": "text",
    "id": "Czs7q4Y5UIUT"
   },
   "source": [
    "### Your answer here:"
   ]
  },
  {
   "cell_type": "code",
   "execution_count": 10,
   "metadata": {},
   "outputs": [
    {
     "data": {
      "image/png": "[encoded data removed]",
      "text/plain": [
       "<Figure size 432x288 with 1 Axes>"
      ]
     },
     "metadata": {},
     "output_type": "display_data"
    }
   ],
   "source": [
    "import pandas as pd\n",
    "from sklearn.cluster import KMeans\n",
    "import matplotlib.pyplot as plt\n",
    "from sklearn.cluster import KMeans\n",
    "from sklearn.decomposition import PCA\n",
    "import numpy as np\n",
    "\n",
    "data = pd.read_csv(\"hw4_data.csv\")\n",
    "data.head()\n",
    "\n",
    "nr_clusters = 7\n",
    "\n",
    "reduced_data = PCA(n_components=2).fit_transform(data)\n",
    "kmeans = KMeans(init=\"k-means++\", n_clusters=nr_clusters, n_init=4)\n",
    "kmeans.fit(reduced_data)\n",
    "\n",
    "# Step size of the mesh. Decrease to increase the quality of the VQ.\n",
    "h = .02     # point in the mesh [x_min, x_max]x[y_min, y_max].\n",
    "\n",
    "# Plot the decision boundary. For that, we will assign a color to each\n",
    "x_min, x_max = reduced_data[:, 0].min() - 1, reduced_data[:, 0].max() + 1\n",
    "y_min, y_max = reduced_data[:, 1].min() - 1, reduced_data[:, 1].max() + 1\n",
    "xx, yy = np.meshgrid(np.arange(x_min, x_max, h), np.arange(y_min, y_max, h))\n",
    "\n",
    "# Obtain labels for each point in mesh. Use last trained model.\n",
    "Z = kmeans.predict(np.c_[xx.ravel(), yy.ravel()])\n",
    "\n",
    "# Put the result into a color plot\n",
    "Z = Z.reshape(xx.shape)\n",
    "plt.figure(1)\n",
    "plt.clf()\n",
    "plt.imshow(Z, interpolation=\"nearest\",\n",
    "           extent=(xx.min(), xx.max(), yy.min(), yy.max()),\n",
    "           cmap=plt.cm.Paired, aspect=\"auto\", origin=\"lower\")\n",
    "\n",
    "plt.plot(reduced_data[:, 0], reduced_data[:, 1], 'k.', markersize=2)\n",
    "# Plot the centroids as a white X\n",
    "centroids = kmeans.cluster_centers_\n",
    "plt.scatter(centroids[:, 0], centroids[:, 1], marker=\"x\", s=169, linewidths=3,\n",
    "            color=\"w\", zorder=10)\n",
    "plt.title(\"K-means clustering on the digits dataset (PCA-reduced data)\\n\"\n",
    "          \"Centroids are marked with white cross\")\n",
    "plt.xlim(x_min, x_max)\n",
    "plt.ylim(y_min, y_max)\n",
    "plt.xticks(())\n",
    "plt.yticks(())\n",
    "plt.show()\n",
    "\n"
   ]
  },
  {
   "cell_type": "markdown",
   "metadata": {
    "colab_type": "text",
    "id": "K6jdOJf_Ksf6"
   },
   "source": [
    "# GMM [2 pts]\n",
    "\n",
    "We will now consider a mixture model. The probability of an observation $x \\in \\mathbb{R}^D$ is given by: $$p(x) = \\sum_{k=1}^{K} \\pi_k P(x|\\theta_k)$$ where $\\pi_k$ are the probabilities a priori and $P(x|\\theta_k)$ are multi-dimensional Gaussian characterized by their mean $\\mu_k$ and their co-variance matrix $\\Sigma_k$\n",
    ", i.e. $\\theta_k = (\\mu_k, \\Sigma_k)$.\n",
    "\n",
    "### Q 2.1.\n",
    "Plot the probability distribution $p(x)$ for D=1, K = 2, $\\pi_1 = \\pi_2 = 0.5$ and $\\mu_1 = 1$, $\\mu_2 = 5$,$\\Sigma_1 = 3$,$ \\Sigma_2 = 5$. **[1 pts]**\n",
    "\n",
    "### Q 2.2.\n",
    "\n",
    "What is the posterior probability that an example $x=1.5$ was produced by the Gaussian $k=1$,i.e. $P(\\theta_1| x)$ ? **[1 pts]**"
   ]
  },
  {
   "cell_type": "markdown",
   "metadata": {
    "colab_type": "text",
    "id": "Nqn0528wUU8u"
   },
   "source": [
    "### Your answer here:"
   ]
  },
  {
   "cell_type": "markdown",
   "metadata": {
    "colab_type": "text",
    "id": "Gp1tmMdZKtYS"
   },
   "source": [
    "# EM algorithm for GMM [6 pts]\n",
    "\n",
    "The data used for this assignment will be one-dimensional and given by the x column from the \"hw4_data\". \n",
    "\n",
    "### Q 3.1.\n",
    "\n",
    "For this assignment we assume that the x data distribution can be described by a mixture of 2 Gaussians in one dimension, of respective parameters $(\\mu_1, \\sigma_1^2)$ and $(\\mu_2, \\sigma_2^2)$. Do you think that this is a reasonable assumption to make? **[1 pts]**\n",
    "\n",
    "### Q 3.2.\n",
    "\n",
    "We will call $\\pi_1$ and $\\pi_2$ the coefficients of the two Gaussians in the mixture.\n",
    "\n",
    "Sort the items of the sample in ascending order and use the 200 smallest values for estimating $(\\mu_1, \\sigma_1^2)$ and the remaining larger ones to estimate $(\\mu_2, \\sigma_2^2)$. Under these conditions, what values should logically be assigned to the weights $\\pi_1$ and $\\pi_2$ (round off to two decimal places)? Plot the resulting distribution of the mixture model for this initializing step. **[1 pts]**\n",
    "\n",
    "### Q 3.3.\n",
    "\n",
    "Starting from $\\theta^0 = \\{\\mu_1, \\sigma^2_1, \\pi_1, \\mu_2, \\sigma^2_2, \\pi_2\\}$ obtained from the previous question, estimate the value of responsibilities $\\gamma(z_{nk})$ according to the EM algorithm. Print the values in the same order as that of the sorted data. **[2 pts]**\n",
    "\n",
    "### Q 3.4.\n",
    "Re-estimate the parameters i.e. calculate $\\theta^1$, using the current responsibilities. Plot the resulting distribution of the mixture model for this first step. **[2 pts]** \n",
    "\n",
    "   \n",
    "**Note:** $\\theta^{i}$ denotes the $i^{th}$ step estimate when using the EM algorithm."
   ]
  },
  {
   "cell_type": "markdown",
   "metadata": {
    "colab_type": "text",
    "id": "3LPxv3VVUabd"
   },
   "source": [
    "### Your answer here:"
   ]
  }
 ],
 "metadata": {
  "colab": {
   "collapsed_sections": [],
   "name": "Hw5_2020.ipynb",
   "provenance": []
  },
  "kernelspec": {
   "display_name": "Python 3",
   "language": "python",
   "name": "python3"
  },
  "language_info": {
   "codemirror_mode": {
    "name": "ipython",
    "version": 3
   },
   "file_extension": ".py",
   "mimetype": "text/x-python",
   "name": "python",
   "nbconvert_exporter": "python",
   "pygments_lexer": "ipython3",
   "version": "3.8.5"
  }
 },
 "nbformat": 4,
 "nbformat_minor": 1
}
